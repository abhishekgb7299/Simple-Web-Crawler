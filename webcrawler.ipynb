{
  "nbformat": 4,
  "nbformat_minor": 0,
  "metadata": {
    "colab": {
      "name": "webcrawler.ipynb",
      "provenance": [],
      "collapsed_sections": []
    },
    "kernelspec": {
      "name": "python3",
      "display_name": "Python 3"
    }
  },
  "cells": [
    {
      "cell_type": "markdown",
      "metadata": {
        "id": "EBkTHbA-oRzn",
        "colab_type": "text"
      },
      "source": [
        "\n",
        "# Python3 program for a word frequency "
      ]
    },
    {
      "cell_type": "code",
      "metadata": {
        "id": "um0h4FSAoVGP",
        "colab_type": "code",
        "colab": {
          "base_uri": "https://localhost:8080/",
          "height": 54
        },
        "outputId": "5fc9fbdb-af53-45ca-95b3-5bd1d7f36913"
      },
      "source": [
        "import requests \n",
        "from bs4 import BeautifulSoup \n",
        "import operator \n",
        "from collections import Counter \n",
        "  \n",
        "#this function will fetch the information from a given website, and push the contents to the second  function clean_wordlist()\n",
        "def start(url): \n",
        "  \n",
        "    # empty list to store the contents of the website fetched \n",
        "    wordlist = [] \n",
        "    source_code = requests.get(url).text \n",
        "  \n",
        "    # BeautifulSoup object  will ping the requested url for data \n",
        "    soup = BeautifulSoup(source_code, 'html.parser') \n",
        "  \n",
        "    # Text in given web-page is stored under the <div> tags with class <entry-content> \n",
        "    for each_text in soup.findAll('div', {'class':'entry-content'}): \n",
        "        content = each_text.text \n",
        "  \n",
        "        # using split() to break the sentence into words and convert them into lowercase  \n",
        "        words = content.lower().split() \n",
        "          \n",
        "        for each_word in words: \n",
        "            wordlist.append(each_word) \n",
        "        clean_wordlist(wordlist) \n",
        "  \n",
        "# Function to remove  unwanted symbols \n",
        "def clean_wordlist(wordlist): \n",
        "      \n",
        "    clean_list =[] \n",
        "    for word in wordlist: \n",
        "        symbols = '!@#$%^&*()_-+={[}]|\\;:\"<>?/., '\n",
        "          \n",
        "        for i in range (0, len(symbols)): \n",
        "            word = word.replace(symbols[i], '') \n",
        "              \n",
        "        if len(word) > 0: \n",
        "            clean_list.append(word) \n",
        "    create_dictionary(clean_list) \n",
        "  \n",
        "# Creates a dictionary conatining each word's count and top_20 ocuuring words \n",
        "def create_dictionary(clean_list): \n",
        "    word_count = {} \n",
        "      \n",
        "    for word in clean_list: \n",
        "        if word in word_count: \n",
        "            word_count[word] += 1\n",
        "        else: \n",
        "            word_count[word] = 1\n",
        "              \n",
        "    c = Counter(word_count) \n",
        "      \n",
        "    # returns the most occurring elements \n",
        "    top = c.most_common(20) \n",
        "    print(top) \n",
        "  \n",
        "# Driver code \n",
        "if __name__ == '__main__': \n",
        "    start(\"https://www.geeksforgeeks.org/python-programming-language/\")"
      ],
      "execution_count": 40,
      "outputs": [
        {
          "output_type": "stream",
          "text": [
            "[('python', 20), ('programming', 11), ('language', 9), ('like', 8), ('is', 6), ('and', 6), ('with', 6), ('the', 6), ('used', 5), ('in', 5), ('web', 3), ('machine', 3), ('learning', 3), ('applications', 3), ('all', 3), ('for', 3), ('django', 3), ('etc', 3), ('of', 3), ('a', 2)]\n"
          ],
          "name": "stdout"
        }
      ]
    },
    {
      "cell_type": "code",
      "metadata": {
        "id": "m8muYwjZlfo5",
        "colab_type": "code",
        "colab": {}
      },
      "source": [
        ""
      ],
      "execution_count": null,
      "outputs": []
    }
  ]
}